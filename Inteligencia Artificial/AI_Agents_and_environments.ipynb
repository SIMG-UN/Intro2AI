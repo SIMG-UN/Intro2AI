{
 "cells": [
  {
   "cell_type": "code",
   "execution_count": null,
   "metadata": {},
   "outputs": [],
   "source": []
  },
  {
   "cell_type": "markdown",
   "metadata": {},
   "source": [
    "# Introducción a la Inteligencia Artificial y Agentes Inteligentes\n",
    "\n",
    "La Inteligencia Artificial (IA) es un campo de la informática que se enfoca en crear sistemas capaces de realizar tareas que, en general, requieren inteligencia humana. Entre estas tareas se incluyen el aprendizaje, el razonamiento, la toma de decisiones y la percepción. Dentro de la IA, uno de los conceptos clave es el de **agente inteligente**.\n",
    "\n",
    "## ¿Qué es un Agente Inteligente?\n",
    "\n",
    "Un agente es una entidad autónoma que interactúa con su entorno a través de sensores y actuadores. Su objetivo es realizar acciones que maximicen alguna medida de desempeño o utilidad.\n",
    "\n",
    "### Componentes de un Agente:\n",
    "- **Sensores:** Dispositivos o mecanismos que permiten al agente percibir el entorno. Por ejemplo, en un robot, los sensores pueden ser cámaras o micrófonos.\n",
    "- **Actuadores:** Mecanismos mediante los cuales el agente puede tomar acciones. Estos pueden incluir motores en un robot o comandos en un software.\n",
    "- **Acciones:** Output realizado por el agente.\n",
    "- **Entorno:** El espacio o contexto en el que el agente opera. Este entorno puede ser físico, como en el caso de un robot, o digital, como un entorno de simulación o un espacio web.\n",
    "\n",
    "![Diagrama de un agente](resources/diagram.png)\n",
    "\n",
    "## Formalización\n",
    "\n",
    "\n",
    "### Definición: Entorno\n",
    "Un entorno es una par $(E,T)$ donde $E$ son un conjunto de estados y $T$ son funciones de transición entre estados, es decir  $T: E \\rightarrow E$ es una función de transición\n",
    "\n",
    "### Definición: Agente\n",
    "Un agente es una función de transición tal que $A: E \\rightarrow P \\rightarrow Ac  \\rightarrow E$ donde \n",
    "\n",
    "* **P:** Percepciones\n",
    "* **Ac:** Acciones\n",
    "\n",
    "## Tipos de Agentes\n",
    "\n",
    "Los agentes pueden clasificarse de acuerdo con su complejidad y capacidad para tomar decisiones:\n",
    "\n",
    "1. **Agentes Reactivos:** Responden de manera directa a las percepciones del entorno mediante reglas simples. No mantienen un estado interno y no tienen memoria del pasado.\n",
    "2. **Agentes Basados en Objetivos:** Toman decisiones para alcanzar un objetivo específico. Usan un modelo del entorno para predecir las consecuencias de sus acciones.\n",
    "3. **Agentes Basados en Utilidad:** Estos agentes no solo buscan alcanzar un objetivo, sino que también evalúan diferentes posibilidades para maximizar una función de utilidad que representa su bienestar.\n",
    "4. **Agentes de Aprendizaje:** Son capaces de mejorar su comportamiento con el tiempo mediante el aprendizaje a partir de la experiencia. Utilizan técnicas de aprendizaje supervisado, no supervisado o por refuerzo.\n",
    "\n",
    "## Entornos en los que Operan los Agentes\n",
    "\n",
    "El entorno en el que un agente opera puede variar en función de varias características:\n",
    "\n",
    "- **Determinista vs. Estocástico:** Un entorno determinista permite predecir completamente el resultado de una acción, mientras que un entorno estocástico incluye elementos de incertidumbre.\n",
    "- **Estático vs. Dinámico:** En un entorno estático, el entorno no cambia mientras el agente está decidiendo su acción. En un entorno dinámico, el entorno puede cambiar incluso mientras el agente decide.\n",
    "- **Discreto vs. Continuo:** Un entorno discreto tiene un número finito de estados y acciones posibles, mientras que un entorno continuo tiene un rango infinito de posibles estados y acciones.\n",
    "\n"
   ]
  },
  {
   "cell_type": "markdown",
   "metadata": {},
   "source": [
    "## Ejemplos Prácticos\n",
    "\n",
    "### 1. Sistema Multiagente para Crear Posts en LinkedIn\n",
    "\n",
    "Este sistema consiste en varios agentes que colaboran para generar contenido optimizado para LinkedIn. Cada agente tiene una responsabilidad específica, como investigar temas relevantes, redactar contenido, revisar y editar, y optimizar para SEO.\n",
    "\n",
    "### 2. Sistema de Aprendizaje por Refuerzo para Aterrizar una Nave Espacial en ATARI\n",
    "\n",
    "Este ejemplo muestra un agente en un entorno de simulación de ATARI que aprende a aterrizar una nave espacial. El agente recibe retroalimentación del entorno, lo que le permite mejorar su rendimiento con el tiempo usando técnicas de aprendizaje por refuerzo.\n",
    "\n",
    "## Conclusiones\n",
    "\n",
    "En este notebook, exploraremos en detalle cómo se diseñan y operan los agentes en inteligencia artificial. Analizaremos ejemplos prácticos que ilustran cómo estos agentes pueden aplicarse en la resolución de problemas complejos en diversos entornos.\n",
    "\n",
    "## Referencias\n",
    "\n",
    "- Norvig, P., & Russell, S. (2010). *Artificial Intelligence: A Modern Approach*. Prentice Hall.\n",
    "- Sutton, R. S., & Barto, A. G. (2018). *Reinforcement Learning: An Introduction*. MIT Press.\n"
   ]
  },
  {
   "cell_type": "markdown",
   "metadata": {},
   "source": []
  }
 ],
 "metadata": {
  "language_info": {
   "name": "python"
  }
 },
 "nbformat": 4,
 "nbformat_minor": 2
}
